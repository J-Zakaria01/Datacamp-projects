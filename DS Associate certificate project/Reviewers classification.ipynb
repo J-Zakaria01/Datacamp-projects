{
  "nbformat": 4,
  "nbformat_minor": 0,
  "metadata": {
    "colab": {
      "provenance": []
    },
    "kernelspec": {
      "name": "python3",
      "display_name": "Python 3"
    },
    "language_info": {
      "name": "python"
    }
  },
  "cells": [
    {
      "cell_type": "code",
      "execution_count": null,
      "metadata": {
        "id": "6rSC1P81nqMp"
      },
      "outputs": [],
      "source": [
        "import pandas as pd\n",
        "import numpy as np\n",
        "import matplotlib.pyplot as plt\n",
        "import seaborn as sns\n",
        "from sklearn.preprocessing import OneHotEncoder\n",
        "import re\n",
        "\n",
        "from sklearn.model_selection import train_test_split\n",
        "from sklearn.linear_model import LogisticRegression\n",
        "from sklearn.ensemble import RandomForestClassifier\n",
        "from sklearn.metrics import accuracy_score, classification_report, confusion_matrix"
      ]
    },
    {
      "cell_type": "markdown",
      "source": [
        "### Data Assessement"
      ],
      "metadata": {
        "id": "rsmSMRuwroZ9"
      }
    },
    {
      "cell_type": "code",
      "source": [
        "EMO_df = pd.read_csv(\"/content/electric_bike_ratings_2212.csv\")\n",
        "EMO_df.head()"
      ],
      "metadata": {
        "colab": {
          "base_uri": "https://localhost:8080/",
          "height": 206
        },
        "id": "fq7wWjH7n1J_",
        "outputId": "294d328e-a776-4aa5-ce9f-47eb9df378c9"
      },
      "execution_count": null,
      "outputs": [
        {
          "output_type": "execute_result",
          "data": {
            "text/plain": [
              "   owned     make_model review_month web_browser reviewer_age primary_use  \\\n",
              "0      1   Nielah-Eyden          Oct      Chrome           23   Commuting   \n",
              "1      0  Nielah-Keetra          Jun         NaN           24   Commuting   \n",
              "2      0   Lunna-Keetra       23-Oct      Chrome           28   Commuting   \n",
              "3      1   Hoang-Keetra       07-Nov          IE           41     Leisure   \n",
              "4      1   Lunna-Keetra       16-Sep      Chrome           33     Leisure   \n",
              "\n",
              "  value_for_money  overall_rating  \n",
              "0            5/10           18.62  \n",
              "1            4/10           15.55  \n",
              "2            5/10           12.76  \n",
              "3            5/10           17.07  \n",
              "4            5/10           12.29  "
            ],
            "text/html": [
              "\n",
              "  <div id=\"df-065170a0-5b53-4051-8ebd-7c8648d78ec6\">\n",
              "    <div class=\"colab-df-container\">\n",
              "      <div>\n",
              "<style scoped>\n",
              "    .dataframe tbody tr th:only-of-type {\n",
              "        vertical-align: middle;\n",
              "    }\n",
              "\n",
              "    .dataframe tbody tr th {\n",
              "        vertical-align: top;\n",
              "    }\n",
              "\n",
              "    .dataframe thead th {\n",
              "        text-align: right;\n",
              "    }\n",
              "</style>\n",
              "<table border=\"1\" class=\"dataframe\">\n",
              "  <thead>\n",
              "    <tr style=\"text-align: right;\">\n",
              "      <th></th>\n",
              "      <th>owned</th>\n",
              "      <th>make_model</th>\n",
              "      <th>review_month</th>\n",
              "      <th>web_browser</th>\n",
              "      <th>reviewer_age</th>\n",
              "      <th>primary_use</th>\n",
              "      <th>value_for_money</th>\n",
              "      <th>overall_rating</th>\n",
              "    </tr>\n",
              "  </thead>\n",
              "  <tbody>\n",
              "    <tr>\n",
              "      <th>0</th>\n",
              "      <td>1</td>\n",
              "      <td>Nielah-Eyden</td>\n",
              "      <td>Oct</td>\n",
              "      <td>Chrome</td>\n",
              "      <td>23</td>\n",
              "      <td>Commuting</td>\n",
              "      <td>5/10</td>\n",
              "      <td>18.62</td>\n",
              "    </tr>\n",
              "    <tr>\n",
              "      <th>1</th>\n",
              "      <td>0</td>\n",
              "      <td>Nielah-Keetra</td>\n",
              "      <td>Jun</td>\n",
              "      <td>NaN</td>\n",
              "      <td>24</td>\n",
              "      <td>Commuting</td>\n",
              "      <td>4/10</td>\n",
              "      <td>15.55</td>\n",
              "    </tr>\n",
              "    <tr>\n",
              "      <th>2</th>\n",
              "      <td>0</td>\n",
              "      <td>Lunna-Keetra</td>\n",
              "      <td>23-Oct</td>\n",
              "      <td>Chrome</td>\n",
              "      <td>28</td>\n",
              "      <td>Commuting</td>\n",
              "      <td>5/10</td>\n",
              "      <td>12.76</td>\n",
              "    </tr>\n",
              "    <tr>\n",
              "      <th>3</th>\n",
              "      <td>1</td>\n",
              "      <td>Hoang-Keetra</td>\n",
              "      <td>07-Nov</td>\n",
              "      <td>IE</td>\n",
              "      <td>41</td>\n",
              "      <td>Leisure</td>\n",
              "      <td>5/10</td>\n",
              "      <td>17.07</td>\n",
              "    </tr>\n",
              "    <tr>\n",
              "      <th>4</th>\n",
              "      <td>1</td>\n",
              "      <td>Lunna-Keetra</td>\n",
              "      <td>16-Sep</td>\n",
              "      <td>Chrome</td>\n",
              "      <td>33</td>\n",
              "      <td>Leisure</td>\n",
              "      <td>5/10</td>\n",
              "      <td>12.29</td>\n",
              "    </tr>\n",
              "  </tbody>\n",
              "</table>\n",
              "</div>\n",
              "      <button class=\"colab-df-convert\" onclick=\"convertToInteractive('df-065170a0-5b53-4051-8ebd-7c8648d78ec6')\"\n",
              "              title=\"Convert this dataframe to an interactive table.\"\n",
              "              style=\"display:none;\">\n",
              "        \n",
              "  <svg xmlns=\"http://www.w3.org/2000/svg\" height=\"24px\"viewBox=\"0 0 24 24\"\n",
              "       width=\"24px\">\n",
              "    <path d=\"M0 0h24v24H0V0z\" fill=\"none\"/>\n",
              "    <path d=\"M18.56 5.44l.94 2.06.94-2.06 2.06-.94-2.06-.94-.94-2.06-.94 2.06-2.06.94zm-11 1L8.5 8.5l.94-2.06 2.06-.94-2.06-.94L8.5 2.5l-.94 2.06-2.06.94zm10 10l.94 2.06.94-2.06 2.06-.94-2.06-.94-.94-2.06-.94 2.06-2.06.94z\"/><path d=\"M17.41 7.96l-1.37-1.37c-.4-.4-.92-.59-1.43-.59-.52 0-1.04.2-1.43.59L10.3 9.45l-7.72 7.72c-.78.78-.78 2.05 0 2.83L4 21.41c.39.39.9.59 1.41.59.51 0 1.02-.2 1.41-.59l7.78-7.78 2.81-2.81c.8-.78.8-2.07 0-2.86zM5.41 20L4 18.59l7.72-7.72 1.47 1.35L5.41 20z\"/>\n",
              "  </svg>\n",
              "      </button>\n",
              "      \n",
              "  <style>\n",
              "    .colab-df-container {\n",
              "      display:flex;\n",
              "      flex-wrap:wrap;\n",
              "      gap: 12px;\n",
              "    }\n",
              "\n",
              "    .colab-df-convert {\n",
              "      background-color: #E8F0FE;\n",
              "      border: none;\n",
              "      border-radius: 50%;\n",
              "      cursor: pointer;\n",
              "      display: none;\n",
              "      fill: #1967D2;\n",
              "      height: 32px;\n",
              "      padding: 0 0 0 0;\n",
              "      width: 32px;\n",
              "    }\n",
              "\n",
              "    .colab-df-convert:hover {\n",
              "      background-color: #E2EBFA;\n",
              "      box-shadow: 0px 1px 2px rgba(60, 64, 67, 0.3), 0px 1px 3px 1px rgba(60, 64, 67, 0.15);\n",
              "      fill: #174EA6;\n",
              "    }\n",
              "\n",
              "    [theme=dark] .colab-df-convert {\n",
              "      background-color: #3B4455;\n",
              "      fill: #D2E3FC;\n",
              "    }\n",
              "\n",
              "    [theme=dark] .colab-df-convert:hover {\n",
              "      background-color: #434B5C;\n",
              "      box-shadow: 0px 1px 3px 1px rgba(0, 0, 0, 0.15);\n",
              "      filter: drop-shadow(0px 1px 2px rgba(0, 0, 0, 0.3));\n",
              "      fill: #FFFFFF;\n",
              "    }\n",
              "  </style>\n",
              "\n",
              "      <script>\n",
              "        const buttonEl =\n",
              "          document.querySelector('#df-065170a0-5b53-4051-8ebd-7c8648d78ec6 button.colab-df-convert');\n",
              "        buttonEl.style.display =\n",
              "          google.colab.kernel.accessAllowed ? 'block' : 'none';\n",
              "\n",
              "        async function convertToInteractive(key) {\n",
              "          const element = document.querySelector('#df-065170a0-5b53-4051-8ebd-7c8648d78ec6');\n",
              "          const dataTable =\n",
              "            await google.colab.kernel.invokeFunction('convertToInteractive',\n",
              "                                                     [key], {});\n",
              "          if (!dataTable) return;\n",
              "\n",
              "          const docLinkHtml = 'Like what you see? Visit the ' +\n",
              "            '<a target=\"_blank\" href=https://colab.research.google.com/notebooks/data_table.ipynb>data table notebook</a>'\n",
              "            + ' to learn more about interactive tables.';\n",
              "          element.innerHTML = '';\n",
              "          dataTable['output_type'] = 'display_data';\n",
              "          await google.colab.output.renderOutput(dataTable, element);\n",
              "          const docLink = document.createElement('div');\n",
              "          docLink.innerHTML = docLinkHtml;\n",
              "          element.appendChild(docLink);\n",
              "        }\n",
              "      </script>\n",
              "    </div>\n",
              "  </div>\n",
              "  "
            ]
          },
          "metadata": {},
          "execution_count": 2
        }
      ]
    },
    {
      "cell_type": "code",
      "source": [
        "EMO_df.duplicated().sum()"
      ],
      "metadata": {
        "colab": {
          "base_uri": "https://localhost:8080/"
        },
        "id": "NtqjLWZdLkJM",
        "outputId": "17cd4edc-e910-4616-ba4d-a1b2627d7e4d"
      },
      "execution_count": null,
      "outputs": [
        {
          "output_type": "execute_result",
          "data": {
            "text/plain": [
              "0"
            ]
          },
          "metadata": {},
          "execution_count": 3
        }
      ]
    },
    {
      "cell_type": "code",
      "source": [
        "EMO_df.isna().sum()"
      ],
      "metadata": {
        "colab": {
          "base_uri": "https://localhost:8080/"
        },
        "id": "1_uvWYtGOfxd",
        "outputId": "4da7df29-d7d8-416a-9657-da690b4c62b7"
      },
      "execution_count": null,
      "outputs": [
        {
          "output_type": "execute_result",
          "data": {
            "text/plain": [
              "owned                0\n",
              "make_model           0\n",
              "review_month         0\n",
              "web_browser        150\n",
              "reviewer_age         0\n",
              "primary_use          0\n",
              "value_for_money      0\n",
              "overall_rating       0\n",
              "dtype: int64"
            ]
          },
          "metadata": {},
          "execution_count": 4
        }
      ]
    },
    {
      "cell_type": "code",
      "source": [
        "print(EMO_df.shape), print(EMO_df.info())"
      ],
      "metadata": {
        "colab": {
          "base_uri": "https://localhost:8080/"
        },
        "id": "4SEQ7TICoTk8",
        "outputId": "a51f444a-b235-4523-911a-9c040746de5e"
      },
      "execution_count": null,
      "outputs": [
        {
          "output_type": "stream",
          "name": "stdout",
          "text": [
            "(1500, 8)\n",
            "<class 'pandas.core.frame.DataFrame'>\n",
            "RangeIndex: 1500 entries, 0 to 1499\n",
            "Data columns (total 8 columns):\n",
            " #   Column           Non-Null Count  Dtype  \n",
            "---  ------           --------------  -----  \n",
            " 0   owned            1500 non-null   int64  \n",
            " 1   make_model       1500 non-null   object \n",
            " 2   review_month     1500 non-null   object \n",
            " 3   web_browser      1350 non-null   object \n",
            " 4   reviewer_age     1500 non-null   object \n",
            " 5   primary_use      1500 non-null   object \n",
            " 6   value_for_money  1500 non-null   object \n",
            " 7   overall_rating   1500 non-null   float64\n",
            "dtypes: float64(1), int64(1), object(6)\n",
            "memory usage: 93.9+ KB\n",
            "None\n"
          ]
        },
        {
          "output_type": "execute_result",
          "data": {
            "text/plain": [
              "(None, None)"
            ]
          },
          "metadata": {},
          "execution_count": 5
        }
      ]
    },
    {
      "cell_type": "code",
      "source": [
        "print(\"make_model: \" + \"\\n\" + str(EMO_df.make_model.unique()))\n",
        "print(\"\\n\" + \"review_month: \" + \"\\n\" + str(EMO_df.review_month.unique()))"
      ],
      "metadata": {
        "colab": {
          "base_uri": "https://localhost:8080/"
        },
        "id": "RJuEnqfKot0N",
        "outputId": "8042e7fb-8baf-4bdf-9d1f-def449d629f4"
      },
      "execution_count": null,
      "outputs": [
        {
          "output_type": "stream",
          "name": "stdout",
          "text": [
            "make_model: \n",
            "['Nielah-Eyden' 'Nielah-Keetra' 'Lunna-Keetra' 'Hoang-Keetra'\n",
            " 'Lunna-Eyden' 'Hoang-Eyden']\n",
            "\n",
            "review_month: \n",
            "['Oct' 'Jun' '23-Oct' '07-Nov' '16-Sep' '26-Aug' '01-Mar' '15-Mar'\n",
            " '09-Mar' 'Jul' '10-Nov' 'Mar' 'Apr' 'Sep' '27-Dec' '11-Nov' '07-Dec'\n",
            " 'Feb' 'Jan' '06-Jun' '12-Jul' '02-Aug' '23-Feb' '27-Jul' '26-Nov'\n",
            " '30-Apr' '31-Jul' '22-Nov' '05-Sep' '05-Dec' '21-Jul' '15-Nov' '07-Jun'\n",
            " '20-May' '23-Sep' '10-Sep' '19-Oct' '28-Oct' '08-Apr' '14-Feb' '28-Nov'\n",
            " '28-Feb' '28-Jul' '12-Apr' '25-Apr' '25-Oct' '08-Jul' '29-Mar' '22-Sep'\n",
            " '26-Jun' '24-May' '12-Mar' '15-Feb' '28-Aug' 'May' '16-Jun' '02-Jul'\n",
            " '06-Feb' '21-Jun' 'Nov' '21-Apr' '19-Jul' '31-May' '11-Aug' '14-Mar'\n",
            " '12-Dec' '02-Apr' '23-Aug' '11-Feb' '24-Aug' '03-Jun' '01-Apr' '24-Nov'\n",
            " 'Dec' '26-Mar' '22-Oct' '22-Jan' '17-Mar' '05-Oct' '20-Mar' '13-Jul'\n",
            " '03-Oct' '16-Nov' '10-Apr' '12-Aug' '19-Aug' '09-Oct' 'Aug' '05-Nov'\n",
            " '23-Dec' '06-Jul' '03-Feb' '21-May' '03-Jul' '10-May' '12-Jun' '20-Oct'\n",
            " '17-Sep' '24-Feb' '24-Sep' '14-Sep' '07-Sep' '30-Nov' '17-Jun' '16-Dec'\n",
            " '16-Jul' '23-Jun' '16-Mar' '01-Jul' '29-Sep' '26-Dec' '06-Apr' '26-Jul'\n",
            " '01-Sep' '30-Mar' '19-Jan' '11-Dec' '15-Oct' '27-Jan' '27-Aug' '17-Jan'\n",
            " '04-Dec' '11-Jan' '22-Mar' '19-Sep' '03-Aug' '20-Jun' '07-May' '11-May'\n",
            " '29-Dec' '06-Dec' '30-Jun' '10-Oct' '27-Jun' '17-Apr' '29-Jul' '29-Aug'\n",
            " '17-Feb' '06-Oct' '22-Feb' '24-Dec' '21-Oct' '22-Jun' '09-Jun' '16-Aug'\n",
            " '27-Oct' '13-Nov' '25-Mar' '19-Nov' '31-Jan' '05-May' '08-Aug' '21-Sep'\n",
            " '04-May' '26-Jan' '22-Dec' '15-Dec' '03-Sep' '24-Oct' '21-Feb' '19-May'\n",
            " '07-Apr' '12-Jan' '29-Jun' '20-Apr' '14-Jul' '11-Jun' '03-May' '08-Oct'\n",
            " '14-Dec' '13-Jan' '29-May' '28-Dec' '02-May' '18-Sep' '16-Jan' '27-Apr'\n",
            " '05-Jun' '25-Dec' '19-Feb' '23-May' '06-Jan' '05-Mar' '30-Jan' '26-May'\n",
            " '20-Dec' '13-Oct' '17-Aug' '05-Jan' '08-Dec' '22-Aug' '30-Aug' '28-Jan'\n",
            " '06-Sep' '06-Nov' '26-Oct' '14-Nov' '01-May' '13-Sep' '26-Feb' '08-May'\n",
            " '09-Dec' '28-Mar' '28-May' '19-Jun' '25-May' '13-May' '30-Jul' '08-Nov'\n",
            " '15-Aug' '18-May' '15-Jun' '10-Feb' '20-Sep' '14-Apr' '07-Jan' '24-Jun'\n",
            " '18-Aug' '04-Apr' '11-Jul' '10-Jul' '29-Jan' '17-Dec' '15-Jan' '08-Mar'\n",
            " '15-Sep' '02-Feb' '14-May' '17-Nov' '28-Apr' '10-Dec' '19-Mar' '06-Mar'\n",
            " '11-Mar' '18-Feb' '17-May' '21-Aug' '18-Apr' '12-Oct' '03-Jan' '04-Jul'\n",
            " '21-Mar' '02-Jun' '10-Jun' '03-Apr' '27-Feb' '09-Aug' '04-Jun' '24-Jan'\n",
            " '14-Jan' '18-Dec' '09-Feb' '02-Mar' '02-Dec' '24-Apr' '25-Sep' '13-Jun'\n",
            " '14-Jun' '02-Nov' '21-Dec' '04-Sep' '01-Aug' '16-Apr' '23-Apr' '18-Mar'\n",
            " '11-Apr' '05-Aug' '27-Sep' '18-Jan' '22-Jul' '12-May' '05-Apr' '07-Feb'\n",
            " '28-Sep' '13-Aug' '05-Feb' '10-Mar' '16-Feb' '04-Feb' '31-Dec' '02-Oct'\n",
            " '30-May' '25-Nov' '25-Aug' '06-May' '08-Jun' '29-Apr' '01-Nov' '08-Sep'\n",
            " '18-Nov' '09-Apr' '02-Jan' '20-Nov' '21-Nov' '03-Dec' '20-Feb' '16-May'\n",
            " '18-Oct' '12-Nov' '30-Sep' '12-Sep' '20-Aug' '26-Apr' '07-Aug' '12-Feb'\n",
            " '04-Aug' '10-Aug' '24-Mar' '01-Jun' '01-Jan' '22-May' '09-Jan' '15-May'\n",
            " '18-Jun' '30-Oct' '26-Sep' '04-Mar' '15-Apr' '04-Oct' '11-Oct' '04-Nov'\n",
            " '08-Jan' '07-Jul' '21-Jan' '16-Oct' '14-Aug' '29-Nov' '23-Jan' '23-Jul'\n",
            " '23-Nov' '09-May' '06-Aug']\n"
          ]
        }
      ]
    },
    {
      "cell_type": "code",
      "source": [
        "print(\"web browser: \" + \"\\n\" + str(EMO_df.web_browser.unique()))\n",
        "print(\"\\n\" + \"reviewer_age: \" + \"\\n\" + str(EMO_df.reviewer_age.unique()))\n",
        "print(\"\\n\" + \"primary_use: \" + \"\\n\" + str(EMO_df.primary_use.unique()))\n",
        "print(\"\\n\" + \"value_for_money: \" + \"\\n\" + str(EMO_df.value_for_money.unique()))"
      ],
      "metadata": {
        "colab": {
          "base_uri": "https://localhost:8080/"
        },
        "id": "lEFvpgTKp2pA",
        "outputId": "25952e51-83da-4be2-8d19-3bcc34a222ae"
      },
      "execution_count": null,
      "outputs": [
        {
          "output_type": "stream",
          "name": "stdout",
          "text": [
            "web browser: \n",
            "['Chrome' nan 'IE' 'Firefox' 'Safari' 'Android' 'Opera']\n",
            "\n",
            "reviewer_age: \n",
            "['23' '24' '28' '41' '33' '47' '20' '32' '35' '22' '29' '39' '42' '36'\n",
            " '40' '27' '48' '34' '16' '21' '25' '30' '-' '46' '37' '31' '17' '44' '26'\n",
            " '38' '49' '50' '45' '19' '43' '18']\n",
            "\n",
            "primary_use: \n",
            "['Commuting' 'Leisure']\n",
            "\n",
            "value_for_money: \n",
            "['5/10' '4/10' '3/10' '7/10' '6/10' '2/10' '9/10' '8/10' '10/10' '1/10']\n"
          ]
        }
      ]
    },
    {
      "cell_type": "markdown",
      "source": [
        "#### Data issues:\n",
        "- review_month: contains entries like 'Oct' and '26-Oct' which are not adequate.\n",
        "- web browser: contains 150 null values.\n",
        "- value_for_money: they need to be discrete and not nominal.\n",
        "- reviewer_age: needs to be integer, and clean from null values.\n",
        "\n",
        "### Data cleaning\n",
        "First let's clean months column."
      ],
      "metadata": {
        "id": "_GpndezFxDjj"
      }
    },
    {
      "cell_type": "code",
      "source": [
        "\n",
        "months = {\n",
        "    'Jan': 'January',\n",
        "    'Feb': 'February',\n",
        "    'Mar': 'March',\n",
        "    'Apr': 'April',\n",
        "    'May': 'May',\n",
        "    'Jun': 'June',\n",
        "    'Jul': 'July',\n",
        "    'Aug': 'August',\n",
        "    'Sep': 'September',\n",
        "    'Oct': 'October',\n",
        "    'Nov': 'November',\n",
        "    'Dec': 'December'\n",
        "}"
      ],
      "metadata": {
        "id": "Xg9NejwqyKza"
      },
      "execution_count": null,
      "outputs": []
    },
    {
      "cell_type": "code",
      "source": [
        "EMO_df[\"review_month\"] = EMO_df[\"review_month\"].replace(to_replace=r\"\\d\\d-\", value=\"\", regex=True)"
      ],
      "metadata": {
        "id": "BKUKM2yp235B"
      },
      "execution_count": null,
      "outputs": []
    },
    {
      "cell_type": "code",
      "source": [
        "EMO_df['review_month'] = EMO_df['review_month'].replace(months)"
      ],
      "metadata": {
        "id": "cdpcWprS27pt"
      },
      "execution_count": null,
      "outputs": []
    },
    {
      "cell_type": "markdown",
      "source": [
        "Now we'll clean web_browser and reviewer_age columns"
      ],
      "metadata": {
        "id": "J3-gu3Et5DWM"
      }
    },
    {
      "cell_type": "code",
      "source": [
        "EMO_df['web_browser'] = EMO_df['web_browser'].replace(np.nan, \"Unknown\")"
      ],
      "metadata": {
        "id": "-u7SPVkR5CQq"
      },
      "execution_count": null,
      "outputs": []
    },
    {
      "cell_type": "code",
      "source": [
        "EMO_df['reviewer_age'] = EMO_df['reviewer_age'].replace(\"-\", np.nan)"
      ],
      "metadata": {
        "id": "A-4TG6sD5xs7"
      },
      "execution_count": null,
      "outputs": []
    },
    {
      "cell_type": "markdown",
      "source": [
        "Finally we'll clean the value_for_money column\n",
        "\n",
        "\n"
      ],
      "metadata": {
        "id": "wR-o3B8i60F9"
      }
    },
    {
      "cell_type": "code",
      "source": [
        "EMO_df[\"value_for_money\"] = [int(x.split('/')[0]) for x in EMO_df[\"value_for_money\"]]"
      ],
      "metadata": {
        "id": "w-g5JyKQ67qJ"
      },
      "execution_count": null,
      "outputs": []
    },
    {
      "cell_type": "markdown",
      "source": [
        "Time to deal with null values"
      ],
      "metadata": {
        "id": "xgwzQIHkIJDa"
      }
    },
    {
      "cell_type": "code",
      "source": [
        "EMO_df['reviewer_age'] = EMO_df['reviewer_age'].astype(str)"
      ],
      "metadata": {
        "id": "YEoYmLlkINv3"
      },
      "execution_count": null,
      "outputs": []
    },
    {
      "cell_type": "code",
      "source": [
        "EMO_df['reviewer_age'].median()"
      ],
      "metadata": {
        "colab": {
          "base_uri": "https://localhost:8080/"
        },
        "id": "_f8exZm_NY-x",
        "outputId": "133d8109-c113-4e30-de23-e0e2e5b8234a"
      },
      "execution_count": null,
      "outputs": [
        {
          "output_type": "execute_result",
          "data": {
            "text/plain": [
              "33.0"
            ]
          },
          "metadata": {},
          "execution_count": 15
        }
      ]
    },
    {
      "cell_type": "code",
      "source": [
        "EMO_df['reviewer_age'].fillna(EMO_df['reviewer_age'].median(), inplace=True)"
      ],
      "metadata": {
        "id": "WR92ZUSpLbDQ"
      },
      "execution_count": null,
      "outputs": []
    },
    {
      "cell_type": "code",
      "source": [
        "EMO_df['reviewer_age'] = EMO_df['reviewer_age'].replace('nan', \"33\")"
      ],
      "metadata": {
        "id": "zNCH1nHeMpZA"
      },
      "execution_count": null,
      "outputs": []
    },
    {
      "cell_type": "code",
      "source": [
        "EMO_df['reviewer_age'] = EMO_df['reviewer_age'].astype(int)"
      ],
      "metadata": {
        "id": "-1W1pokLMLob"
      },
      "execution_count": null,
      "outputs": []
    },
    {
      "cell_type": "markdown",
      "source": [
        "Let's check"
      ],
      "metadata": {
        "id": "jy5f-fOwOIvv"
      }
    },
    {
      "cell_type": "code",
      "source": [
        "EMO_df.head()"
      ],
      "metadata": {
        "colab": {
          "base_uri": "https://localhost:8080/",
          "height": 288
        },
        "id": "sTYMDv77ODJs",
        "outputId": "fb45d38c-b7f8-4468-afb0-61e11cd28d30"
      },
      "execution_count": null,
      "outputs": [
        {
          "output_type": "execute_result",
          "data": {
            "text/plain": [
              "   owned     make_model review_month web_browser  reviewer_age primary_use  \\\n",
              "0      1   Nielah-Eyden      October      Chrome            23   Commuting   \n",
              "1      0  Nielah-Keetra         June     Unknown            24   Commuting   \n",
              "2      0   Lunna-Keetra      October      Chrome            28   Commuting   \n",
              "3      1   Hoang-Keetra     November          IE            41     Leisure   \n",
              "4      1   Lunna-Keetra    September      Chrome            33     Leisure   \n",
              "\n",
              "   value_for_money  overall_rating  \n",
              "0                5           18.62  \n",
              "1                4           15.55  \n",
              "2                5           12.76  \n",
              "3                5           17.07  \n",
              "4                5           12.29  "
            ],
            "text/html": [
              "\n",
              "  <div id=\"df-da8e577c-2cf6-4c29-9c01-b9acd09c36da\">\n",
              "    <div class=\"colab-df-container\">\n",
              "      <div>\n",
              "<style scoped>\n",
              "    .dataframe tbody tr th:only-of-type {\n",
              "        vertical-align: middle;\n",
              "    }\n",
              "\n",
              "    .dataframe tbody tr th {\n",
              "        vertical-align: top;\n",
              "    }\n",
              "\n",
              "    .dataframe thead th {\n",
              "        text-align: right;\n",
              "    }\n",
              "</style>\n",
              "<table border=\"1\" class=\"dataframe\">\n",
              "  <thead>\n",
              "    <tr style=\"text-align: right;\">\n",
              "      <th></th>\n",
              "      <th>owned</th>\n",
              "      <th>make_model</th>\n",
              "      <th>review_month</th>\n",
              "      <th>web_browser</th>\n",
              "      <th>reviewer_age</th>\n",
              "      <th>primary_use</th>\n",
              "      <th>value_for_money</th>\n",
              "      <th>overall_rating</th>\n",
              "    </tr>\n",
              "  </thead>\n",
              "  <tbody>\n",
              "    <tr>\n",
              "      <th>0</th>\n",
              "      <td>1</td>\n",
              "      <td>Nielah-Eyden</td>\n",
              "      <td>October</td>\n",
              "      <td>Chrome</td>\n",
              "      <td>23</td>\n",
              "      <td>Commuting</td>\n",
              "      <td>5</td>\n",
              "      <td>18.62</td>\n",
              "    </tr>\n",
              "    <tr>\n",
              "      <th>1</th>\n",
              "      <td>0</td>\n",
              "      <td>Nielah-Keetra</td>\n",
              "      <td>June</td>\n",
              "      <td>Unknown</td>\n",
              "      <td>24</td>\n",
              "      <td>Commuting</td>\n",
              "      <td>4</td>\n",
              "      <td>15.55</td>\n",
              "    </tr>\n",
              "    <tr>\n",
              "      <th>2</th>\n",
              "      <td>0</td>\n",
              "      <td>Lunna-Keetra</td>\n",
              "      <td>October</td>\n",
              "      <td>Chrome</td>\n",
              "      <td>28</td>\n",
              "      <td>Commuting</td>\n",
              "      <td>5</td>\n",
              "      <td>12.76</td>\n",
              "    </tr>\n",
              "    <tr>\n",
              "      <th>3</th>\n",
              "      <td>1</td>\n",
              "      <td>Hoang-Keetra</td>\n",
              "      <td>November</td>\n",
              "      <td>IE</td>\n",
              "      <td>41</td>\n",
              "      <td>Leisure</td>\n",
              "      <td>5</td>\n",
              "      <td>17.07</td>\n",
              "    </tr>\n",
              "    <tr>\n",
              "      <th>4</th>\n",
              "      <td>1</td>\n",
              "      <td>Lunna-Keetra</td>\n",
              "      <td>September</td>\n",
              "      <td>Chrome</td>\n",
              "      <td>33</td>\n",
              "      <td>Leisure</td>\n",
              "      <td>5</td>\n",
              "      <td>12.29</td>\n",
              "    </tr>\n",
              "  </tbody>\n",
              "</table>\n",
              "</div>\n",
              "      <button class=\"colab-df-convert\" onclick=\"convertToInteractive('df-da8e577c-2cf6-4c29-9c01-b9acd09c36da')\"\n",
              "              title=\"Convert this dataframe to an interactive table.\"\n",
              "              style=\"display:none;\">\n",
              "        \n",
              "  <svg xmlns=\"http://www.w3.org/2000/svg\" height=\"24px\"viewBox=\"0 0 24 24\"\n",
              "       width=\"24px\">\n",
              "    <path d=\"M0 0h24v24H0V0z\" fill=\"none\"/>\n",
              "    <path d=\"M18.56 5.44l.94 2.06.94-2.06 2.06-.94-2.06-.94-.94-2.06-.94 2.06-2.06.94zm-11 1L8.5 8.5l.94-2.06 2.06-.94-2.06-.94L8.5 2.5l-.94 2.06-2.06.94zm10 10l.94 2.06.94-2.06 2.06-.94-2.06-.94-.94-2.06-.94 2.06-2.06.94z\"/><path d=\"M17.41 7.96l-1.37-1.37c-.4-.4-.92-.59-1.43-.59-.52 0-1.04.2-1.43.59L10.3 9.45l-7.72 7.72c-.78.78-.78 2.05 0 2.83L4 21.41c.39.39.9.59 1.41.59.51 0 1.02-.2 1.41-.59l7.78-7.78 2.81-2.81c.8-.78.8-2.07 0-2.86zM5.41 20L4 18.59l7.72-7.72 1.47 1.35L5.41 20z\"/>\n",
              "  </svg>\n",
              "      </button>\n",
              "      \n",
              "  <style>\n",
              "    .colab-df-container {\n",
              "      display:flex;\n",
              "      flex-wrap:wrap;\n",
              "      gap: 12px;\n",
              "    }\n",
              "\n",
              "    .colab-df-convert {\n",
              "      background-color: #E8F0FE;\n",
              "      border: none;\n",
              "      border-radius: 50%;\n",
              "      cursor: pointer;\n",
              "      display: none;\n",
              "      fill: #1967D2;\n",
              "      height: 32px;\n",
              "      padding: 0 0 0 0;\n",
              "      width: 32px;\n",
              "    }\n",
              "\n",
              "    .colab-df-convert:hover {\n",
              "      background-color: #E2EBFA;\n",
              "      box-shadow: 0px 1px 2px rgba(60, 64, 67, 0.3), 0px 1px 3px 1px rgba(60, 64, 67, 0.15);\n",
              "      fill: #174EA6;\n",
              "    }\n",
              "\n",
              "    [theme=dark] .colab-df-convert {\n",
              "      background-color: #3B4455;\n",
              "      fill: #D2E3FC;\n",
              "    }\n",
              "\n",
              "    [theme=dark] .colab-df-convert:hover {\n",
              "      background-color: #434B5C;\n",
              "      box-shadow: 0px 1px 3px 1px rgba(0, 0, 0, 0.15);\n",
              "      filter: drop-shadow(0px 1px 2px rgba(0, 0, 0, 0.3));\n",
              "      fill: #FFFFFF;\n",
              "    }\n",
              "  </style>\n",
              "\n",
              "      <script>\n",
              "        const buttonEl =\n",
              "          document.querySelector('#df-da8e577c-2cf6-4c29-9c01-b9acd09c36da button.colab-df-convert');\n",
              "        buttonEl.style.display =\n",
              "          google.colab.kernel.accessAllowed ? 'block' : 'none';\n",
              "\n",
              "        async function convertToInteractive(key) {\n",
              "          const element = document.querySelector('#df-da8e577c-2cf6-4c29-9c01-b9acd09c36da');\n",
              "          const dataTable =\n",
              "            await google.colab.kernel.invokeFunction('convertToInteractive',\n",
              "                                                     [key], {});\n",
              "          if (!dataTable) return;\n",
              "\n",
              "          const docLinkHtml = 'Like what you see? Visit the ' +\n",
              "            '<a target=\"_blank\" href=https://colab.research.google.com/notebooks/data_table.ipynb>data table notebook</a>'\n",
              "            + ' to learn more about interactive tables.';\n",
              "          element.innerHTML = '';\n",
              "          dataTable['output_type'] = 'display_data';\n",
              "          await google.colab.output.renderOutput(dataTable, element);\n",
              "          const docLink = document.createElement('div');\n",
              "          docLink.innerHTML = docLinkHtml;\n",
              "          element.appendChild(docLink);\n",
              "        }\n",
              "      </script>\n",
              "    </div>\n",
              "  </div>\n",
              "  "
            ]
          },
          "metadata": {},
          "execution_count": 19
        }
      ]
    },
    {
      "cell_type": "code",
      "source": [
        "EMO_df.info()"
      ],
      "metadata": {
        "colab": {
          "base_uri": "https://localhost:8080/"
        },
        "id": "WBSXtEr5OM40",
        "outputId": "7282d7b8-2409-40c6-dd0f-5cb40363771a"
      },
      "execution_count": null,
      "outputs": [
        {
          "output_type": "stream",
          "name": "stdout",
          "text": [
            "<class 'pandas.core.frame.DataFrame'>\n",
            "RangeIndex: 1500 entries, 0 to 1499\n",
            "Data columns (total 8 columns):\n",
            " #   Column           Non-Null Count  Dtype  \n",
            "---  ------           --------------  -----  \n",
            " 0   owned            1500 non-null   int64  \n",
            " 1   make_model       1500 non-null   object \n",
            " 2   review_month     1500 non-null   object \n",
            " 3   web_browser      1500 non-null   object \n",
            " 4   reviewer_age     1500 non-null   int64  \n",
            " 5   primary_use      1500 non-null   object \n",
            " 6   value_for_money  1500 non-null   int64  \n",
            " 7   overall_rating   1500 non-null   float64\n",
            "dtypes: float64(1), int64(3), object(4)\n",
            "memory usage: 93.9+ KB\n"
          ]
        }
      ]
    },
    {
      "cell_type": "markdown",
      "source": [
        "- review_month: replaced the short format with the longer format with removing numbers.\n",
        "- web_browser: replaced the null values with unknown.\n",
        "- reviewer_age: replaced \"-\" with null values, then filled the nan values into the median, then changed the type to integers.\n",
        "- value_for_money: changed to integer type, and removed /10."
      ],
      "metadata": {
        "id": "pMfc0IFYO87I"
      }
    },
    {
      "cell_type": "markdown",
      "source": [
        "1. (a, b, c)\n",
        "\n",
        "Owned: Object (nominal), adequate with table, no null values.\n",
        "\n",
        "Make_model: Object (nominal), adequate with table, no null values.\n",
        "\n",
        "review_month: Object (nominal), removed numbers and replaced format e.i: Jan to January, no null values.\n",
        "\n",
        "web_browser: Object (nominal), replaced null values with \"Unknown\".\n",
        "\n",
        "reviewer_age: Changed to \"int\" type (discrete), and replaced null values with the median.\n",
        "\n",
        "primary_use: Object (nominal), adequate with table, no null values.\n",
        "\n",
        "value_for_money: Changed to integer type (discrete), no null values.\n",
        "\n",
        "overall_rating: float (continuous), adequate with table, no null values."
      ],
      "metadata": {
        "id": "yj6WdBFpZCk5"
      }
    },
    {
      "cell_type": "markdown",
      "source": [
        "### EDA"
      ],
      "metadata": {
        "id": "NGx7mkEaMEB2"
      }
    },
    {
      "cell_type": "code",
      "source": [
        "sns.set_style(\"darkgrid\")\n",
        "\n",
        "# the number of reviews by owners and non-owners\n",
        "owned_counts = EMO_df['owned'].value_counts()\n",
        "\n",
        "# Bar chart\n",
        "sns.countplot(x='owned', data=EMO_df)\n",
        "plt.xlabel('Ownership')\n",
        "plt.ylabel('Number of Reviews')\n",
        "plt.title('Number of Reviews by Ownership')\n",
        "plt.show()"
      ],
      "metadata": {
        "colab": {
          "base_uri": "https://localhost:8080/",
          "height": 211
        },
        "id": "VL-gSo2fSGtH",
        "outputId": "6a5e9dbc-8df7-4d58-a197-9e5125736732"
      },
      "execution_count": null,
      "outputs": [
        {
          "output_type": "display_data",
          "data": {
            "text/plain": [
              "<Figure size 432x288 with 1 Axes>"
            ],
            "image/png": "[encoded data removed]"
          },
          "metadata": {}
        }
      ]
    },
    {
      "cell_type": "markdown",
      "source": [
        "2.a. The category \"owners\" (1) has the most reviews (more than 800). \n",
        "\n",
        "2.b. However the non-owners category (0) has about 600 reviews which is important and gives us a good balance in our dataset."
      ],
      "metadata": {
        "id": "umFR80a0ToW_"
      }
    },
    {
      "cell_type": "code",
      "source": [
        "sns.distplot(EMO_df[\"overall_rating\"], hist=True)\n",
        "plt.xlabel(\"Rating\")\n",
        "plt.ylabel(\"Frequency\")\n",
        "plt.title(\"Distribution of Overall Rating\")\n",
        "plt.show()"
      ],
      "metadata": {
        "colab": {
          "base_uri": "https://localhost:8080/",
          "height": 264
        },
        "id": "FBAAUTmpWRwb",
        "outputId": "9b88da11-149b-4edc-c176-e6cbd932fd7a"
      },
      "execution_count": null,
      "outputs": [
        {
          "output_type": "stream",
          "name": "stderr",
          "text": [
            "/usr/local/lib/python3.8/dist-packages/seaborn/distributions.py:2619: FutureWarning: `distplot` is a deprecated function and will be removed in a future version. Please adapt your code to use either `displot` (a figure-level function with similar flexibility) or `histplot` (an axes-level function for histograms).\n",
            "  warnings.warn(msg, FutureWarning)\n"
          ]
        },
        {
          "output_type": "display_data",
          "data": {
            "text/plain": [
              "<Figure size 432x288 with 1 Axes>"
            ],
            "image/png": "[encoded data removed]"
          },
          "metadata": {}
        }
      ]
    },
    {
      "cell_type": "markdown",
      "source": [
        "3. The rates (15, 16, and 18 to 20) are the most frequent in our dataset, there are also 12 and 13, since the range of overall ratings is from 0 to 25, our distribution looks really good since we have good rates."
      ],
      "metadata": {
        "id": "lwhJfFGpW8gF"
      }
    },
    {
      "cell_type": "code",
      "source": [
        "sns.barplot(x='owned', y='overall_rating', data=EMO_df)\n",
        "plt.title('Relationship between Ownership and Overall Rating')\n",
        "plt.xlabel('Number of Owners')\n",
        "plt.ylabel('Overall Rating')\n",
        "plt.show()"
      ],
      "metadata": {
        "colab": {
          "base_uri": "https://localhost:8080/",
          "height": 209
        },
        "id": "y9OEQRlqcfwR",
        "outputId": "2fd7f41f-1039-46fc-d1ca-4a2ee3e5cdda"
      },
      "execution_count": null,
      "outputs": [
        {
          "output_type": "display_data",
          "data": {
            "text/plain": [
              "<Figure size 432x288 with 1 Axes>"
            ],
            "image/png": "[encoded data removed]"
          },
          "metadata": {}
        }
      ]
    },
    {
      "cell_type": "markdown",
      "source": [
        "*4*. As we can see the overall rating trends to be higher with the owners than non-owners with a short difference."
      ],
      "metadata": {
        "id": "3K4FsTi6cift"
      }
    },
    {
      "cell_type": "markdown",
      "source": [
        "### Data processing\n",
        "5. Since we have to predict a labeled data type, the problem that we deal with is \"Classification\" where we have to predict the output of owner or not owner."
      ],
      "metadata": {
        "id": "GQxnjt_GdT9x"
      }
    },
    {
      "cell_type": "code",
      "source": [
        "X = EMO_df.drop(columns=['owned', 'review_month', 'web_browser'])\n",
        "y = EMO_df['owned']"
      ],
      "metadata": {
        "id": "LyPyq8w7ghkp"
      },
      "execution_count": null,
      "outputs": []
    },
    {
      "cell_type": "code",
      "source": [
        "#creating instance of one-hot-encoder\n",
        "onehot = OneHotEncoder(handle_unknown='ignore')\n",
        "#onehot.fit(X[['make_model']])\n",
        "\n",
        "#perform one-hot encoding\n",
        "model_df = pd.DataFrame(onehot.fit_transform(X[['make_model']]).toarray(), columns=onehot.categories_[0])\n",
        "\n",
        "\n",
        "#merge one-hot encoded columns back with original DataFrame\n",
        "X = X.join(model_df)\n",
        "\n",
        "#view final df\n",
        "X.head()"
      ],
      "metadata": {
        "colab": {
          "base_uri": "https://localhost:8080/",
          "height": 305
        },
        "id": "UXTCKeC_un7m",
        "outputId": "19d3767f-4433-4a9d-8998-5fae8f2c3793"
      },
      "execution_count": null,
      "outputs": [
        {
          "output_type": "execute_result",
          "data": {
            "text/plain": [
              "      make_model  reviewer_age primary_use  value_for_money  overall_rating  \\\n",
              "0   Nielah-Eyden            23   Commuting                5           18.62   \n",
              "1  Nielah-Keetra            24   Commuting                4           15.55   \n",
              "2   Lunna-Keetra            28   Commuting                5           12.76   \n",
              "3   Hoang-Keetra            41     Leisure                5           17.07   \n",
              "4   Lunna-Keetra            33     Leisure                5           12.29   \n",
              "\n",
              "   Hoang-Eyden  Hoang-Keetra  Lunna-Eyden  Lunna-Keetra  Nielah-Eyden  \\\n",
              "0          0.0           0.0          0.0           0.0           1.0   \n",
              "1          0.0           0.0          0.0           0.0           0.0   \n",
              "2          0.0           0.0          0.0           1.0           0.0   \n",
              "3          0.0           1.0          0.0           0.0           0.0   \n",
              "4          0.0           0.0          0.0           1.0           0.0   \n",
              "\n",
              "   Nielah-Keetra  \n",
              "0            0.0  \n",
              "1            1.0  \n",
              "2            0.0  \n",
              "3            0.0  \n",
              "4            0.0  "
            ],
            "text/html": [
              "\n",
              "  <div id=\"df-2849cddc-748d-4b39-a969-d860f18778a8\">\n",
              "    <div class=\"colab-df-container\">\n",
              "      <div>\n",
              "<style scoped>\n",
              "    .dataframe tbody tr th:only-of-type {\n",
              "        vertical-align: middle;\n",
              "    }\n",
              "\n",
              "    .dataframe tbody tr th {\n",
              "        vertical-align: top;\n",
              "    }\n",
              "\n",
              "    .dataframe thead th {\n",
              "        text-align: right;\n",
              "    }\n",
              "</style>\n",
              "<table border=\"1\" class=\"dataframe\">\n",
              "  <thead>\n",
              "    <tr style=\"text-align: right;\">\n",
              "      <th></th>\n",
              "      <th>make_model</th>\n",
              "      <th>reviewer_age</th>\n",
              "      <th>primary_use</th>\n",
              "      <th>value_for_money</th>\n",
              "      <th>overall_rating</th>\n",
              "      <th>Hoang-Eyden</th>\n",
              "      <th>Hoang-Keetra</th>\n",
              "      <th>Lunna-Eyden</th>\n",
              "      <th>Lunna-Keetra</th>\n",
              "      <th>Nielah-Eyden</th>\n",
              "      <th>Nielah-Keetra</th>\n",
              "    </tr>\n",
              "  </thead>\n",
              "  <tbody>\n",
              "    <tr>\n",
              "      <th>0</th>\n",
              "      <td>Nielah-Eyden</td>\n",
              "      <td>23</td>\n",
              "      <td>Commuting</td>\n",
              "      <td>5</td>\n",
              "      <td>18.62</td>\n",
              "      <td>0.0</td>\n",
              "      <td>0.0</td>\n",
              "      <td>0.0</td>\n",
              "      <td>0.0</td>\n",
              "      <td>1.0</td>\n",
              "      <td>0.0</td>\n",
              "    </tr>\n",
              "    <tr>\n",
              "      <th>1</th>\n",
              "      <td>Nielah-Keetra</td>\n",
              "      <td>24</td>\n",
              "      <td>Commuting</td>\n",
              "      <td>4</td>\n",
              "      <td>15.55</td>\n",
              "      <td>0.0</td>\n",
              "      <td>0.0</td>\n",
              "      <td>0.0</td>\n",
              "      <td>0.0</td>\n",
              "      <td>0.0</td>\n",
              "      <td>1.0</td>\n",
              "    </tr>\n",
              "    <tr>\n",
              "      <th>2</th>\n",
              "      <td>Lunna-Keetra</td>\n",
              "      <td>28</td>\n",
              "      <td>Commuting</td>\n",
              "      <td>5</td>\n",
              "      <td>12.76</td>\n",
              "      <td>0.0</td>\n",
              "      <td>0.0</td>\n",
              "      <td>0.0</td>\n",
              "      <td>1.0</td>\n",
              "      <td>0.0</td>\n",
              "      <td>0.0</td>\n",
              "    </tr>\n",
              "    <tr>\n",
              "      <th>3</th>\n",
              "      <td>Hoang-Keetra</td>\n",
              "      <td>41</td>\n",
              "      <td>Leisure</td>\n",
              "      <td>5</td>\n",
              "      <td>17.07</td>\n",
              "      <td>0.0</td>\n",
              "      <td>1.0</td>\n",
              "      <td>0.0</td>\n",
              "      <td>0.0</td>\n",
              "      <td>0.0</td>\n",
              "      <td>0.0</td>\n",
              "    </tr>\n",
              "    <tr>\n",
              "      <th>4</th>\n",
              "      <td>Lunna-Keetra</td>\n",
              "      <td>33</td>\n",
              "      <td>Leisure</td>\n",
              "      <td>5</td>\n",
              "      <td>12.29</td>\n",
              "      <td>0.0</td>\n",
              "      <td>0.0</td>\n",
              "      <td>0.0</td>\n",
              "      <td>1.0</td>\n",
              "      <td>0.0</td>\n",
              "      <td>0.0</td>\n",
              "    </tr>\n",
              "  </tbody>\n",
              "</table>\n",
              "</div>\n",
              "      <button class=\"colab-df-convert\" onclick=\"convertToInteractive('df-2849cddc-748d-4b39-a969-d860f18778a8')\"\n",
              "              title=\"Convert this dataframe to an interactive table.\"\n",
              "              style=\"display:none;\">\n",
              "        \n",
              "  <svg xmlns=\"http://www.w3.org/2000/svg\" height=\"24px\"viewBox=\"0 0 24 24\"\n",
              "       width=\"24px\">\n",
              "    <path d=\"M0 0h24v24H0V0z\" fill=\"none\"/>\n",
              "    <path d=\"M18.56 5.44l.94 2.06.94-2.06 2.06-.94-2.06-.94-.94-2.06-.94 2.06-2.06.94zm-11 1L8.5 8.5l.94-2.06 2.06-.94-2.06-.94L8.5 2.5l-.94 2.06-2.06.94zm10 10l.94 2.06.94-2.06 2.06-.94-2.06-.94-.94-2.06-.94 2.06-2.06.94z\"/><path d=\"M17.41 7.96l-1.37-1.37c-.4-.4-.92-.59-1.43-.59-.52 0-1.04.2-1.43.59L10.3 9.45l-7.72 7.72c-.78.78-.78 2.05 0 2.83L4 21.41c.39.39.9.59 1.41.59.51 0 1.02-.2 1.41-.59l7.78-7.78 2.81-2.81c.8-.78.8-2.07 0-2.86zM5.41 20L4 18.59l7.72-7.72 1.47 1.35L5.41 20z\"/>\n",
              "  </svg>\n",
              "      </button>\n",
              "      \n",
              "  <style>\n",
              "    .colab-df-container {\n",
              "      display:flex;\n",
              "      flex-wrap:wrap;\n",
              "      gap: 12px;\n",
              "    }\n",
              "\n",
              "    .colab-df-convert {\n",
              "      background-color: #E8F0FE;\n",
              "      border: none;\n",
              "      border-radius: 50%;\n",
              "      cursor: pointer;\n",
              "      display: none;\n",
              "      fill: #1967D2;\n",
              "      height: 32px;\n",
              "      padding: 0 0 0 0;\n",
              "      width: 32px;\n",
              "    }\n",
              "\n",
              "    .colab-df-convert:hover {\n",
              "      background-color: #E2EBFA;\n",
              "      box-shadow: 0px 1px 2px rgba(60, 64, 67, 0.3), 0px 1px 3px 1px rgba(60, 64, 67, 0.15);\n",
              "      fill: #174EA6;\n",
              "    }\n",
              "\n",
              "    [theme=dark] .colab-df-convert {\n",
              "      background-color: #3B4455;\n",
              "      fill: #D2E3FC;\n",
              "    }\n",
              "\n",
              "    [theme=dark] .colab-df-convert:hover {\n",
              "      background-color: #434B5C;\n",
              "      box-shadow: 0px 1px 3px 1px rgba(0, 0, 0, 0.15);\n",
              "      filter: drop-shadow(0px 1px 2px rgba(0, 0, 0, 0.3));\n",
              "      fill: #FFFFFF;\n",
              "    }\n",
              "  </style>\n",
              "\n",
              "      <script>\n",
              "        const buttonEl =\n",
              "          document.querySelector('#df-2849cddc-748d-4b39-a969-d860f18778a8 button.colab-df-convert');\n",
              "        buttonEl.style.display =\n",
              "          google.colab.kernel.accessAllowed ? 'block' : 'none';\n",
              "\n",
              "        async function convertToInteractive(key) {\n",
              "          const element = document.querySelector('#df-2849cddc-748d-4b39-a969-d860f18778a8');\n",
              "          const dataTable =\n",
              "            await google.colab.kernel.invokeFunction('convertToInteractive',\n",
              "                                                     [key], {});\n",
              "          if (!dataTable) return;\n",
              "\n",
              "          const docLinkHtml = 'Like what you see? Visit the ' +\n",
              "            '<a target=\"_blank\" href=https://colab.research.google.com/notebooks/data_table.ipynb>data table notebook</a>'\n",
              "            + ' to learn more about interactive tables.';\n",
              "          element.innerHTML = '';\n",
              "          dataTable['output_type'] = 'display_data';\n",
              "          await google.colab.output.renderOutput(dataTable, element);\n",
              "          const docLink = document.createElement('div');\n",
              "          docLink.innerHTML = docLinkHtml;\n",
              "          element.appendChild(docLink);\n",
              "        }\n",
              "      </script>\n",
              "    </div>\n",
              "  </div>\n",
              "  "
            ]
          },
          "metadata": {},
          "execution_count": 25
        }
      ]
    },
    {
      "cell_type": "code",
      "source": [
        "#creating instance of one-hot-encoder\n",
        "onehot = OneHotEncoder(handle_unknown='ignore')\n",
        "#onehot.fit(X[['make_model']])\n",
        "\n",
        "#perform one-hot encoding\n",
        "use_df = pd.DataFrame(onehot.fit_transform(X[['primary_use']]).toarray(), columns=onehot.categories_[0])\n",
        "\n",
        "\n",
        "#merge one-hot encoded columns back with original DataFrame\n",
        "X = X.join(use_df)\n",
        "\n",
        "#view final df\n",
        "X.head()"
      ],
      "metadata": {
        "colab": {
          "base_uri": "https://localhost:8080/",
          "height": 305
        },
        "id": "VSAJW3znw_pR",
        "outputId": "efe1366b-0e65-47a6-be28-db895246c972"
      },
      "execution_count": null,
      "outputs": [
        {
          "output_type": "execute_result",
          "data": {
            "text/plain": [
              "      make_model  reviewer_age primary_use  value_for_money  overall_rating  \\\n",
              "0   Nielah-Eyden            23   Commuting                5           18.62   \n",
              "1  Nielah-Keetra            24   Commuting                4           15.55   \n",
              "2   Lunna-Keetra            28   Commuting                5           12.76   \n",
              "3   Hoang-Keetra            41     Leisure                5           17.07   \n",
              "4   Lunna-Keetra            33     Leisure                5           12.29   \n",
              "\n",
              "   Hoang-Eyden  Hoang-Keetra  Lunna-Eyden  Lunna-Keetra  Nielah-Eyden  \\\n",
              "0          0.0           0.0          0.0           0.0           1.0   \n",
              "1          0.0           0.0          0.0           0.0           0.0   \n",
              "2          0.0           0.0          0.0           1.0           0.0   \n",
              "3          0.0           1.0          0.0           0.0           0.0   \n",
              "4          0.0           0.0          0.0           1.0           0.0   \n",
              "\n",
              "   Nielah-Keetra  Commuting  Leisure  \n",
              "0            0.0        1.0      0.0  \n",
              "1            1.0        1.0      0.0  \n",
              "2            0.0        1.0      0.0  \n",
              "3            0.0        0.0      1.0  \n",
              "4            0.0        0.0      1.0  "
            ],
            "text/html": [
              "\n",
              "  <div id=\"df-94910e07-a21e-4382-8ccc-3702492390a8\">\n",
              "    <div class=\"colab-df-container\">\n",
              "      <div>\n",
              "<style scoped>\n",
              "    .dataframe tbody tr th:only-of-type {\n",
              "        vertical-align: middle;\n",
              "    }\n",
              "\n",
              "    .dataframe tbody tr th {\n",
              "        vertical-align: top;\n",
              "    }\n",
              "\n",
              "    .dataframe thead th {\n",
              "        text-align: right;\n",
              "    }\n",
              "</style>\n",
              "<table border=\"1\" class=\"dataframe\">\n",
              "  <thead>\n",
              "    <tr style=\"text-align: right;\">\n",
              "      <th></th>\n",
              "      <th>make_model</th>\n",
              "      <th>reviewer_age</th>\n",
              "      <th>primary_use</th>\n",
              "      <th>value_for_money</th>\n",
              "      <th>overall_rating</th>\n",
              "      <th>Hoang-Eyden</th>\n",
              "      <th>Hoang-Keetra</th>\n",
              "      <th>Lunna-Eyden</th>\n",
              "      <th>Lunna-Keetra</th>\n",
              "      <th>Nielah-Eyden</th>\n",
              "      <th>Nielah-Keetra</th>\n",
              "      <th>Commuting</th>\n",
              "      <th>Leisure</th>\n",
              "    </tr>\n",
              "  </thead>\n",
              "  <tbody>\n",
              "    <tr>\n",
              "      <th>0</th>\n",
              "      <td>Nielah-Eyden</td>\n",
              "      <td>23</td>\n",
              "      <td>Commuting</td>\n",
              "      <td>5</td>\n",
              "      <td>18.62</td>\n",
              "      <td>0.0</td>\n",
              "      <td>0.0</td>\n",
              "      <td>0.0</td>\n",
              "      <td>0.0</td>\n",
              "      <td>1.0</td>\n",
              "      <td>0.0</td>\n",
              "      <td>1.0</td>\n",
              "      <td>0.0</td>\n",
              "    </tr>\n",
              "    <tr>\n",
              "      <th>1</th>\n",
              "      <td>Nielah-Keetra</td>\n",
              "      <td>24</td>\n",
              "      <td>Commuting</td>\n",
              "      <td>4</td>\n",
              "      <td>15.55</td>\n",
              "      <td>0.0</td>\n",
              "      <td>0.0</td>\n",
              "      <td>0.0</td>\n",
              "      <td>0.0</td>\n",
              "      <td>0.0</td>\n",
              "      <td>1.0</td>\n",
              "      <td>1.0</td>\n",
              "      <td>0.0</td>\n",
              "    </tr>\n",
              "    <tr>\n",
              "      <th>2</th>\n",
              "      <td>Lunna-Keetra</td>\n",
              "      <td>28</td>\n",
              "      <td>Commuting</td>\n",
              "      <td>5</td>\n",
              "      <td>12.76</td>\n",
              "      <td>0.0</td>\n",
              "      <td>0.0</td>\n",
              "      <td>0.0</td>\n",
              "      <td>1.0</td>\n",
              "      <td>0.0</td>\n",
              "      <td>0.0</td>\n",
              "      <td>1.0</td>\n",
              "      <td>0.0</td>\n",
              "    </tr>\n",
              "    <tr>\n",
              "      <th>3</th>\n",
              "      <td>Hoang-Keetra</td>\n",
              "      <td>41</td>\n",
              "      <td>Leisure</td>\n",
              "      <td>5</td>\n",
              "      <td>17.07</td>\n",
              "      <td>0.0</td>\n",
              "      <td>1.0</td>\n",
              "      <td>0.0</td>\n",
              "      <td>0.0</td>\n",
              "      <td>0.0</td>\n",
              "      <td>0.0</td>\n",
              "      <td>0.0</td>\n",
              "      <td>1.0</td>\n",
              "    </tr>\n",
              "    <tr>\n",
              "      <th>4</th>\n",
              "      <td>Lunna-Keetra</td>\n",
              "      <td>33</td>\n",
              "      <td>Leisure</td>\n",
              "      <td>5</td>\n",
              "      <td>12.29</td>\n",
              "      <td>0.0</td>\n",
              "      <td>0.0</td>\n",
              "      <td>0.0</td>\n",
              "      <td>1.0</td>\n",
              "      <td>0.0</td>\n",
              "      <td>0.0</td>\n",
              "      <td>0.0</td>\n",
              "      <td>1.0</td>\n",
              "    </tr>\n",
              "  </tbody>\n",
              "</table>\n",
              "</div>\n",
              "      <button class=\"colab-df-convert\" onclick=\"convertToInteractive('df-94910e07-a21e-4382-8ccc-3702492390a8')\"\n",
              "              title=\"Convert this dataframe to an interactive table.\"\n",
              "              style=\"display:none;\">\n",
              "        \n",
              "  <svg xmlns=\"http://www.w3.org/2000/svg\" height=\"24px\"viewBox=\"0 0 24 24\"\n",
              "       width=\"24px\">\n",
              "    <path d=\"M0 0h24v24H0V0z\" fill=\"none\"/>\n",
              "    <path d=\"M18.56 5.44l.94 2.06.94-2.06 2.06-.94-2.06-.94-.94-2.06-.94 2.06-2.06.94zm-11 1L8.5 8.5l.94-2.06 2.06-.94-2.06-.94L8.5 2.5l-.94 2.06-2.06.94zm10 10l.94 2.06.94-2.06 2.06-.94-2.06-.94-.94-2.06-.94 2.06-2.06.94z\"/><path d=\"M17.41 7.96l-1.37-1.37c-.4-.4-.92-.59-1.43-.59-.52 0-1.04.2-1.43.59L10.3 9.45l-7.72 7.72c-.78.78-.78 2.05 0 2.83L4 21.41c.39.39.9.59 1.41.59.51 0 1.02-.2 1.41-.59l7.78-7.78 2.81-2.81c.8-.78.8-2.07 0-2.86zM5.41 20L4 18.59l7.72-7.72 1.47 1.35L5.41 20z\"/>\n",
              "  </svg>\n",
              "      </button>\n",
              "      \n",
              "  <style>\n",
              "    .colab-df-container {\n",
              "      display:flex;\n",
              "      flex-wrap:wrap;\n",
              "      gap: 12px;\n",
              "    }\n",
              "\n",
              "    .colab-df-convert {\n",
              "      background-color: #E8F0FE;\n",
              "      border: none;\n",
              "      border-radius: 50%;\n",
              "      cursor: pointer;\n",
              "      display: none;\n",
              "      fill: #1967D2;\n",
              "      height: 32px;\n",
              "      padding: 0 0 0 0;\n",
              "      width: 32px;\n",
              "    }\n",
              "\n",
              "    .colab-df-convert:hover {\n",
              "      background-color: #E2EBFA;\n",
              "      box-shadow: 0px 1px 2px rgba(60, 64, 67, 0.3), 0px 1px 3px 1px rgba(60, 64, 67, 0.15);\n",
              "      fill: #174EA6;\n",
              "    }\n",
              "\n",
              "    [theme=dark] .colab-df-convert {\n",
              "      background-color: #3B4455;\n",
              "      fill: #D2E3FC;\n",
              "    }\n",
              "\n",
              "    [theme=dark] .colab-df-convert:hover {\n",
              "      background-color: #434B5C;\n",
              "      box-shadow: 0px 1px 3px 1px rgba(0, 0, 0, 0.15);\n",
              "      filter: drop-shadow(0px 1px 2px rgba(0, 0, 0, 0.3));\n",
              "      fill: #FFFFFF;\n",
              "    }\n",
              "  </style>\n",
              "\n",
              "      <script>\n",
              "        const buttonEl =\n",
              "          document.querySelector('#df-94910e07-a21e-4382-8ccc-3702492390a8 button.colab-df-convert');\n",
              "        buttonEl.style.display =\n",
              "          google.colab.kernel.accessAllowed ? 'block' : 'none';\n",
              "\n",
              "        async function convertToInteractive(key) {\n",
              "          const element = document.querySelector('#df-94910e07-a21e-4382-8ccc-3702492390a8');\n",
              "          const dataTable =\n",
              "            await google.colab.kernel.invokeFunction('convertToInteractive',\n",
              "                                                     [key], {});\n",
              "          if (!dataTable) return;\n",
              "\n",
              "          const docLinkHtml = 'Like what you see? Visit the ' +\n",
              "            '<a target=\"_blank\" href=https://colab.research.google.com/notebooks/data_table.ipynb>data table notebook</a>'\n",
              "            + ' to learn more about interactive tables.';\n",
              "          element.innerHTML = '';\n",
              "          dataTable['output_type'] = 'display_data';\n",
              "          await google.colab.output.renderOutput(dataTable, element);\n",
              "          const docLink = document.createElement('div');\n",
              "          docLink.innerHTML = docLinkHtml;\n",
              "          element.appendChild(docLink);\n",
              "        }\n",
              "      </script>\n",
              "    </div>\n",
              "  </div>\n",
              "  "
            ]
          },
          "metadata": {},
          "execution_count": 26
        }
      ]
    },
    {
      "cell_type": "code",
      "source": [
        "X = X.drop(columns=['make_model', 'primary_use'])"
      ],
      "metadata": {
        "id": "U4bL6dYnxRzi"
      },
      "execution_count": null,
      "outputs": []
    },
    {
      "cell_type": "code",
      "source": [
        "# Perform train-test split\n",
        "X_train, X_test, y_train, y_test = train_test_split(X, y, test_size=0.3, random_state=0)"
      ],
      "metadata": {
        "id": "WoFiLwECxh9h"
      },
      "execution_count": null,
      "outputs": []
    },
    {
      "cell_type": "markdown",
      "source": [
        "### Logistic Regression\n",
        "6. This is our baseline model, logistic regression is widely used in classification problems and has a good performance, first we'll define our model and fit it on the data then we'll evaluate it."
      ],
      "metadata": {
        "id": "SvdcWmIf7tkd"
      }
    },
    {
      "cell_type": "code",
      "source": [
        "# Build a logistic regression model\n",
        "log_reg = LogisticRegression(C=0.1, penalty='l2')\n",
        "log_reg.fit(X_train, y_train)"
      ],
      "metadata": {
        "id": "tpthbDKnxiJR",
        "colab": {
          "base_uri": "https://localhost:8080/"
        },
        "outputId": "623f83d4-eba8-4eb5-a97c-21f39acdeb2e"
      },
      "execution_count": null,
      "outputs": [
        {
          "output_type": "stream",
          "name": "stderr",
          "text": [
            "/usr/local/lib/python3.8/dist-packages/sklearn/linear_model/_logistic.py:814: ConvergenceWarning: lbfgs failed to converge (status=1):\n",
            "STOP: TOTAL NO. of ITERATIONS REACHED LIMIT.\n",
            "\n",
            "Increase the number of iterations (max_iter) or scale the data as shown in:\n",
            "    https://scikit-learn.org/stable/modules/preprocessing.html\n",
            "Please also refer to the documentation for alternative solver options:\n",
            "    https://scikit-learn.org/stable/modules/linear_model.html#logistic-regression\n",
            "  n_iter_i = _check_optimize_result(\n"
          ]
        },
        {
          "output_type": "execute_result",
          "data": {
            "text/plain": [
              "LogisticRegression(C=0.1)"
            ]
          },
          "metadata": {},
          "execution_count": 62
        }
      ]
    },
    {
      "cell_type": "code",
      "source": [
        "# Make predictions on test set\n",
        "y_pred = log_reg.predict(X_test)\n",
        "\n",
        "# Evaluate model using accuracy\n",
        "acc = accuracy_score(y_test, y_pred)\n",
        "print(\"Accuracy:\", acc)"
      ],
      "metadata": {
        "id": "aYx2iXgyxiQs",
        "colab": {
          "base_uri": "https://localhost:8080/"
        },
        "outputId": "eea7d61c-0cc7-4ad1-8063-5d73aa68accb"
      },
      "execution_count": null,
      "outputs": [
        {
          "output_type": "stream",
          "name": "stdout",
          "text": [
            "Accuracy: 0.7511111111111111\n"
          ]
        }
      ]
    },
    {
      "cell_type": "code",
      "source": [
        "# Print classification report\n",
        "print(classification_report(y_test, y_pred))"
      ],
      "metadata": {
        "id": "RGo05uz9xiV_",
        "colab": {
          "base_uri": "https://localhost:8080/"
        },
        "outputId": "cb4abcfb-f10e-4dd0-8176-0a5e47b20a25"
      },
      "execution_count": null,
      "outputs": [
        {
          "output_type": "stream",
          "name": "stdout",
          "text": [
            "              precision    recall  f1-score   support\n",
            "\n",
            "           0       0.74      0.56      0.64       177\n",
            "           1       0.76      0.87      0.81       273\n",
            "\n",
            "    accuracy                           0.75       450\n",
            "   macro avg       0.75      0.72      0.73       450\n",
            "weighted avg       0.75      0.75      0.74       450\n",
            "\n"
          ]
        }
      ]
    },
    {
      "cell_type": "code",
      "source": [
        "# Create confusion matrix\n",
        "cm = confusion_matrix(y_test, y_pred)\n",
        "\n",
        "# Visualize confusion matrix\n",
        "sns.heatmap(cm, annot=True, fmt='d')\n",
        "plt.xlabel('Predicted')\n",
        "plt.ylabel('True')\n",
        "plt.show()"
      ],
      "metadata": {
        "colab": {
          "base_uri": "https://localhost:8080/",
          "height": 211
        },
        "id": "Ou_MZUCI8DpR",
        "outputId": "fb7aefb5-1a1b-4ec3-998f-eb5fa5b96a6e"
      },
      "execution_count": null,
      "outputs": [
        {
          "output_type": "display_data",
          "data": {
            "text/plain": [
              "<Figure size 432x288 with 2 Axes>"
            ],
            "image/png": "[encoded data removed]"
          },
          "metadata": {}
        }
      ]
    },
    {
      "cell_type": "markdown",
      "source": [
        "### Random Forest Classification \n",
        "7. As a comparison model we'll use random forest regression, this model is largely adapted for classification and regression problems, we'll use it for our problem."
      ],
      "metadata": {
        "id": "d_wi57KA9TTL"
      }
    },
    {
      "cell_type": "code",
      "source": [
        "# Instantiate RandomForestclassifier\n",
        "rf_clf = RandomForestClassifier()\n",
        "\n",
        "# Train the model\n",
        "rf_clf.fit(X_train, y_train)"
      ],
      "metadata": {
        "colab": {
          "base_uri": "https://localhost:8080/"
        },
        "id": "T5hkvnKuAp7j",
        "outputId": "53d05e29-a508-4141-f650-5360338e1b42"
      },
      "execution_count": null,
      "outputs": [
        {
          "output_type": "execute_result",
          "data": {
            "text/plain": [
              "RandomForestClassifier()"
            ]
          },
          "metadata": {},
          "execution_count": 83
        }
      ]
    },
    {
      "cell_type": "code",
      "source": [
        "# Make predictions on the test set\n",
        "y_pred = rf_clf.predict(X_test)\n",
        "\n",
        "# Evaluate the model using accuracy\n",
        "acc = accuracy_score(y_test, y_pred)\n",
        "print(\"Accuracy:\", acc)"
      ],
      "metadata": {
        "colab": {
          "base_uri": "https://localhost:8080/"
        },
        "id": "b1poPzwlBsal",
        "outputId": "66741486-7502-459d-82a4-1e7ffd7124ab"
      },
      "execution_count": null,
      "outputs": [
        {
          "output_type": "stream",
          "name": "stdout",
          "text": [
            "Accuracy: 0.7511111111111111\n"
          ]
        }
      ]
    },
    {
      "cell_type": "code",
      "source": [
        "# Print classification report\n",
        "print(classification_report(y_test, y_pred))"
      ],
      "metadata": {
        "colab": {
          "base_uri": "https://localhost:8080/"
        },
        "id": "h_QdQNjHBtT8",
        "outputId": "095c8d3d-5fcd-4460-c5fa-7477fe749ca8"
      },
      "execution_count": null,
      "outputs": [
        {
          "output_type": "stream",
          "name": "stdout",
          "text": [
            "              precision    recall  f1-score   support\n",
            "\n",
            "           0       0.70      0.63      0.67       177\n",
            "           1       0.78      0.83      0.80       273\n",
            "\n",
            "    accuracy                           0.75       450\n",
            "   macro avg       0.74      0.73      0.73       450\n",
            "weighted avg       0.75      0.75      0.75       450\n",
            "\n"
          ]
        }
      ]
    },
    {
      "cell_type": "code",
      "source": [
        "# Create confusion matrix\n",
        "cm = confusion_matrix(y_test, y_pred)\n",
        "\n",
        "# Visualize confusion matrix\n",
        "sns.heatmap(cm, annot=True, fmt='d')\n",
        "plt.xlabel('Predicted')\n",
        "plt.ylabel('True')\n",
        "plt.show()"
      ],
      "metadata": {
        "colab": {
          "base_uri": "https://localhost:8080/",
          "height": 211
        },
        "id": "qM0rqsf6BtjL",
        "outputId": "0796cd80-8622-4012-a819-b9fa4a38665b"
      },
      "execution_count": null,
      "outputs": [
        {
          "output_type": "display_data",
          "data": {
            "text/plain": [
              "<Figure size 432x288 with 2 Axes>"
            ],
            "image/png": "[encoded data removed]"
          },
          "metadata": {}
        }
      ]
    },
    {
      "cell_type": "markdown",
      "source": [
        "8. The purpose of choosing these models is based on my previous experiences, both of them can perform in a performant way based on the data, as we see their performance is good in this problem, since the goal is to improve accuracy there are severe ways to achieve that, for example tuning hyperparameters, use other models, normalize the data and feed the model with more data..."
      ],
      "metadata": {
        "id": "-yEj0hceE5T_"
      }
    },
    {
      "cell_type": "markdown",
      "source": [
        "09.\n",
        "\n",
        "We used evaluation metrics from sickit learn library, the accuracy of our model is 0.75, which is good and it can be improved. \n",
        "\n",
        "We used the same evaluation metrics for random forest clf from sickit learn library as before, we see that the accuracy of our model is 0.75, which is the same as the logistic regression model.\n",
        "\n",
        "\n",
        "\n",
        "10.\n",
        "\n",
        "Both of the models are performing the same way, there is no such difference in the evaluation parts for each model, turning hyperparameters, and feeding more data to the models can make difference."
      ],
      "metadata": {
        "id": "499tXk0vAKxz"
      }
    }
  ]
}